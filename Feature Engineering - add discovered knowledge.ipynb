{
 "cells": [
  {
   "cell_type": "markdown",
   "metadata": {},
   "source": [
    "# Feature Engineering - add discovered knowledge\n",
    "\n",
    "In this notebook I add the knowledge discovered on the web to the dataframes.\n",
    "\n",
    "I have also created groups of breads, but it doesn't work very well. Thus, I don't add this feature but the code is still here"
   ]
  },
  {
   "cell_type": "code",
   "execution_count": 3,
   "metadata": {
    "collapsed": false
   },
   "outputs": [
    {
     "name": "stderr",
     "output_type": "stream",
     "text": [
      "/Users/valentin/anaconda/lib/python2.7/site-packages/matplotlib/__init__.py:1035: UserWarning: Duplicate key in file \"/Users/valentin/anaconda/lib/python2.7/site-packages/matplotlib/mpl-data/matplotlibrc\", line #513\n",
      "  (fname, cnt))\n"
     ]
    }
   ],
   "source": [
    "from __future__ import division\n",
    "from pandas import DataFrame, read_csv\n",
    "import matplotlib.pyplot as plt\n",
    "import pandas as pd \n",
    "import matplotlib \n",
    "import numpy as np\n",
    "# Enable inline plotting\n",
    "%matplotlib inline\n",
    "from sklearn.preprocessing import StandardScaler\n",
    "from scipy.linalg import svd\n",
    "from sklearn.decomposition import TruncatedSVD\n",
    "\n",
    "from sklearn.manifold import TSNE\n",
    "\n",
    "from sklearn import preprocessing\n",
    "\n",
    "from urllib import urlopen\n",
    "from bs4 import BeautifulSoup\n",
    "import nltk \n",
    "\n",
    "from dateutil import parser\n",
    "\n",
    "import pyprind\n",
    "\n",
    "from difflib import SequenceMatcher\n",
    "\n",
    "import seaborn as sns\n",
    "sns.set(style=\"darkgrid\", palette=\"muted\")\n",
    "import matplotlib\n",
    "matplotlib.style.use('ggplot')\n",
    "pd.set_option('display.notebook_repr_html', True)\n",
    "plt.rcParams['figure.figsize'] = 10, 6\n",
    "\n",
    "import warnings\n",
    "warnings.filterwarnings('ignore')"
   ]
  },
  {
   "cell_type": "code",
   "execution_count": 4,
   "metadata": {
    "collapsed": false
   },
   "outputs": [
    {
     "data": {
      "text/html": [
       "<div>\n",
       "<table border=\"1\" class=\"dataframe\">\n",
       "  <thead>\n",
       "    <tr style=\"text-align: right;\">\n",
       "      <th></th>\n",
       "      <th>AnimalID</th>\n",
       "      <th>Name</th>\n",
       "      <th>DateTime</th>\n",
       "      <th>OutcomeType</th>\n",
       "      <th>OutcomeSubtype</th>\n",
       "      <th>AnimalType</th>\n",
       "      <th>SexuponOutcome</th>\n",
       "      <th>AgeuponOutcome</th>\n",
       "      <th>Breed</th>\n",
       "      <th>Color</th>\n",
       "    </tr>\n",
       "  </thead>\n",
       "  <tbody>\n",
       "    <tr>\n",
       "      <th>0</th>\n",
       "      <td>A671945</td>\n",
       "      <td>Hambone</td>\n",
       "      <td>2014-02-12 18:22:00</td>\n",
       "      <td>Return_to_owner</td>\n",
       "      <td>NaN</td>\n",
       "      <td>Dog</td>\n",
       "      <td>Neutered Male</td>\n",
       "      <td>1 year</td>\n",
       "      <td>Shetland Sheepdog Mix</td>\n",
       "      <td>Brown/White</td>\n",
       "    </tr>\n",
       "    <tr>\n",
       "      <th>1</th>\n",
       "      <td>A656520</td>\n",
       "      <td>Emily</td>\n",
       "      <td>2013-10-13 12:44:00</td>\n",
       "      <td>Euthanasia</td>\n",
       "      <td>Suffering</td>\n",
       "      <td>Cat</td>\n",
       "      <td>Spayed Female</td>\n",
       "      <td>1 year</td>\n",
       "      <td>Domestic Shorthair Mix</td>\n",
       "      <td>Cream Tabby</td>\n",
       "    </tr>\n",
       "    <tr>\n",
       "      <th>2</th>\n",
       "      <td>A686464</td>\n",
       "      <td>Pearce</td>\n",
       "      <td>2015-01-31 12:28:00</td>\n",
       "      <td>Adoption</td>\n",
       "      <td>Foster</td>\n",
       "      <td>Dog</td>\n",
       "      <td>Neutered Male</td>\n",
       "      <td>2 years</td>\n",
       "      <td>Pit Bull Mix</td>\n",
       "      <td>Blue/White</td>\n",
       "    </tr>\n",
       "  </tbody>\n",
       "</table>\n",
       "</div>"
      ],
      "text/plain": [
       "  AnimalID     Name             DateTime      OutcomeType OutcomeSubtype  \\\n",
       "0  A671945  Hambone  2014-02-12 18:22:00  Return_to_owner            NaN   \n",
       "1  A656520    Emily  2013-10-13 12:44:00       Euthanasia      Suffering   \n",
       "2  A686464   Pearce  2015-01-31 12:28:00         Adoption         Foster   \n",
       "\n",
       "  AnimalType SexuponOutcome AgeuponOutcome                   Breed  \\\n",
       "0        Dog  Neutered Male         1 year   Shetland Sheepdog Mix   \n",
       "1        Cat  Spayed Female         1 year  Domestic Shorthair Mix   \n",
       "2        Dog  Neutered Male        2 years            Pit Bull Mix   \n",
       "\n",
       "         Color  \n",
       "0  Brown/White  \n",
       "1  Cream Tabby  \n",
       "2   Blue/White  "
      ]
     },
     "execution_count": 4,
     "metadata": {},
     "output_type": "execute_result"
    }
   ],
   "source": [
    "df_train = pd.read_csv('train.csv')\n",
    "df_test = pd.read_csv('test.csv')\n",
    "df_train[:3]"
   ]
  },
  {
   "cell_type": "code",
   "execution_count": 5,
   "metadata": {
    "collapsed": true
   },
   "outputs": [],
   "source": [
    "import csv\n",
    "with open('breed2score.csv', mode='r') as infile:\n",
    "    reader = csv.reader(infile)\n",
    "    mydict = {rows[0]:rows[1] for rows in reader}\n",
    "      \n",
    "import pickle\n",
    "breed2score = pickle.load( open( \"breed2score.p\", \"rb\" ) )\n"
   ]
  },
  {
   "cell_type": "code",
   "execution_count": 6,
   "metadata": {
    "collapsed": false
   },
   "outputs": [
    {
     "name": "stdout",
     "output_type": "stream",
     "text": [
      "237\n"
     ]
    }
   ],
   "source": [
    "# a simple sequence matcher function\n",
    "def similar(a, b):\n",
    "    return SequenceMatcher(None, a, b).ratio()\n",
    "\n",
    "all_breed_info = list(set(list(df_train['Breed']) + list(df_test['Breed'])))\n",
    "unique_breeds = set()\n",
    "for i in all_breed_info:\n",
    "    i = i.replace(' Mix' , '')\n",
    "    for ii in i.split('/'):\n",
    "        unique_breeds.add(ii)\n",
    "print len(unique_breeds)\n",
    "\n",
    "def matchBreedScore( BreedElement ):\n",
    "    c = sorted( breed2score.items() , key = lambda x: similar(x[0], BreedElement) , reverse = True )[0]\n",
    "    sim =  similar(c[0] , BreedElement)\n",
    "    if sim < 0.7:\n",
    "        sim = 0\n",
    "    return sim\n",
    "\n",
    "dataBreed2score = { e : matchBreedScore(e) for e in unique_breeds}\n",
    "\n",
    "def BreedInfo2Score( e ):\n",
    "    e = e.replace(' Mix' , '')\n",
    "    sims = []\n",
    "    for ee in e.split('/'):\n",
    "        sims.append( dataBreed2score[ee] )\n",
    "    return np.mean(sims)"
   ]
  },
  {
   "cell_type": "code",
   "execution_count": 7,
   "metadata": {
    "collapsed": false
   },
   "outputs": [
    {
     "name": "stdout",
     "output_type": "stream",
     "text": [
      "reading from UR: http://www.akc.org/dog-breeds/groups/herding/\n",
      "reading from UR: http://www.akc.org/dog-breeds/groups/hound/\n",
      "reading from UR: http://www.akc.org/dog-breeds/groups/non-sporting/\n",
      "reading from UR: http://www.akc.org/dog-breeds/groups/sporting/\n",
      "reading from UR: http://www.akc.org/dog-breeds/groups/terrier/\n",
      "reading from UR: http://www.akc.org/dog-breeds/groups/toy/\n",
      "reading from UR: http://www.akc.org/dog-breeds/groups/working/\n"
     ]
    }
   ],
   "source": [
    "# retrieve dog breed groups from http://www.akc.org/dog-breeds/ \n",
    "# NB I have not used these features for the final submission\n",
    "group_names = ['herding' , 'hound', 'non-sporting', 'sporting', 'terrier', 'toy', 'working']\n",
    "dog_groups = dict()\n",
    "for g in group_names:\n",
    "    dog_groups[g] = []\n",
    "root = \"http://www.akc.org/dog-breeds/groups/\"    \n",
    "for g in group_names:\n",
    "    url = root + g + '/'\n",
    "    print \"reading from UR: \" + url\n",
    "    html = urlopen(url).read()    \n",
    "    soup = BeautifulSoup ( html )\n",
    "    h2s = soup.findAll('h2')\n",
    "\n",
    "    for h2 in h2s:\n",
    "        for link in h2.findAll('a'):\n",
    "            dog_groups[g].append(link.contents[0])\n",
    "group_names.append('Unknown')\n",
    "dog_groups['Unknown'] = ['Unknown']\n",
    "dog_groups['Pit Bull'] = ['Pit Bull']\n",
    "# define cats groups thanks to http://www.acf.asn.au/index.php?page=standards\n",
    "cat_groups = dict()\n",
    "a = [ 'Aphrodite','Birman','Exotic','Maine Coon','Neva Masquerade','Norwegian Forest Cat', 'Persian', 'Ragdoll', 'Siberian','Turkish Van']\n",
    "b = ['Balinese Foreign White', 'Oriental Shorthair', 'Oriental Longhair', 'Javanese', 'Peterbald','Siamese' ]\n",
    "c = ['Abyssinian','American Curl','American Shorthair', 'Australian Mist', 'Australian Mist','Bengal', 'Bombay (American)', 'British Shorthair',\\\n",
    "                  'Burmese', 'Burmese (American)','Burmilla' , 'Cornish Rex','Cymric','Devon Rex','Egyptian Mau','Japanese Bobtail',\\\n",
    "                  'Korat','La Perm ', 'Mandalay','Manx','Ocicat','Pixiebob','Russian','Scottish Fold','Scottish Shorthair',\\\n",
    "                  'Selkirk Rex','Singapura','Snowshoe','Somali','Sphynx','Tonkinese']\n",
    "d = ['Domestic shortair']\n",
    "e = ['Domestic Medium Hair']\n",
    "f = ['Domestic Longhair']\n",
    "\n",
    "cat_groups['cat1'] = a+b+c\n",
    "cat_groups['cat2'] = d\n",
    "cat_groups['cat3'] = e\n",
    "cat_groups['cat4'] = f\n",
    "\n",
    "all_groups = cat_groups.copy()\n",
    "all_groups.update(dog_groups)"
   ]
  },
  {
   "cell_type": "code",
   "execution_count": 8,
   "metadata": {
    "collapsed": true
   },
   "outputs": [],
   "source": [
    "breed2group = dict()\n",
    "for b in unique_breeds:        \n",
    "    sim = 0\n",
    "    g_final = 'Unknown'\n",
    "    for g in all_groups:\n",
    "        if sim < 1: # perfect match\n",
    "            for gg in all_groups[g]:\n",
    "                s = similar( gg , b)\n",
    "                if s > 0.6 and s > sim:\n",
    "                    sim = s\n",
    "                    g_final = g\n",
    "    breed2group[b] = g_final "
   ]
  },
  {
   "cell_type": "code",
   "execution_count": 9,
   "metadata": {
    "collapsed": true
   },
   "outputs": [],
   "source": [
    "def BreedData2Groups(df):\n",
    "    for k in all_groups.keys():\n",
    "        df['group='+k] = [False for x in range(len(df))]\n",
    "    for b in df['Breed']:\n",
    "        b = b.replace(' Mix' , '')\n",
    "        i = 0\n",
    "        for bb in b.split('/'):\n",
    "            group = breed2group[bb]\n",
    "            df.loc[i, 'group='+ group] = True\n",
    "            i +=1\n",
    "    return df"
   ]
  },
  {
   "cell_type": "code",
   "execution_count": 10,
   "metadata": {
    "collapsed": true
   },
   "outputs": [],
   "source": [
    "df_train = pd.read_csv('train.csv')\n",
    "df_test = pd.read_csv('test.csv')\n",
    "#df_train = BreedData2Groups(df_train)\n",
    "df_train['BreedScore'] = df_train['Breed'].map(BreedInfo2Score)\n",
    "#df_test = BreedData2Groups(df_test)\n",
    "df_test['BreedScore'] = df_test['Breed'].map(BreedInfo2Score)\n",
    "df_train.to_csv('train_breed_infos.csv')\n",
    "df_test.to_csv('test_breed_infos.csv')"
   ]
  },
  {
   "cell_type": "code",
   "execution_count": null,
   "metadata": {
    "collapsed": true
   },
   "outputs": [],
   "source": []
  }
 ],
 "metadata": {
  "kernelspec": {
   "display_name": "Python 2",
   "language": "python",
   "name": "python2"
  },
  "language_info": {
   "codemirror_mode": {
    "name": "ipython",
    "version": 2
   },
   "file_extension": ".py",
   "mimetype": "text/x-python",
   "name": "python",
   "nbconvert_exporter": "python",
   "pygments_lexer": "ipython2",
   "version": "2.7.11"
  }
 },
 "nbformat": 4,
 "nbformat_minor": 0
}
