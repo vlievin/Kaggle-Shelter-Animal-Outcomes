{
 "cells": [
  {
   "cell_type": "markdown",
   "metadata": {},
   "source": [
    "# Preprocessing and random forest tuning\n",
    "\n",
    "clean data, extract and select features"
   ]
  },
  {
   "cell_type": "code",
   "execution_count": 89,
   "metadata": {
    "collapsed": false
   },
   "outputs": [],
   "source": [
    "from __future__ import division\n",
    "from pandas import DataFrame, read_csv\n",
    "import matplotlib.pyplot as plt\n",
    "import pandas as pd\n",
    "import matplotlib \n",
    "import numpy as np\n",
    "%matplotlib inline\n",
    "\n",
    "from urllib import urlopen\n",
    "from bs4 import BeautifulSoup\n",
    "import nltk \n",
    "\n",
    "from dateutil import parser\n",
    "import pyprind\n",
    "\n",
    "from difflib import SequenceMatcher\n",
    "\n",
    "import seaborn as sns\n",
    "sns.set(style=\"darkgrid\", palette=\"muted\")\n",
    "import matplotlib\n",
    "matplotlib.style.use('ggplot')\n",
    "pd.set_option('display.notebook_repr_html', True)\n",
    "plt.rcParams['figure.figsize'] = 10, 6\n",
    "\n",
    "import warnings\n",
    "warnings.filterwarnings('ignore')\n",
    "\n",
    "\n",
    "from sklearn.cross_validation import train_test_split\n",
    "from sklearn.ensemble import BaggingClassifier\n",
    "from sklearn.neighbors import KNeighborsClassifier\n",
    "from sklearn.tree import DecisionTreeClassifier\n",
    "from sklearn.neighbors import KNeighborsClassifier\n",
    "from sklearn.svm import SVC\n",
    "from itertools import product\n",
    "from sklearn.ensemble import VotingClassifier\n",
    "from sklearn import cross_validation\n",
    "from sklearn.cross_validation import StratifiedKFold\n",
    "from sklearn.ensemble import RandomForestClassifier \n",
    "from sklearn.ensemble import AdaBoostClassifier\n",
    "from sklearn.ensemble import RandomForestClassifier\n",
    "from sklearn.ensemble import ExtraTreesClassifier\n",
    "from sklearn.tree import DecisionTreeClassifier\n",
    "from sklearn.ensemble import GradientBoostingClassifier\n",
    "from sklearn.svm import LinearSVC\n",
    "from sklearn.multiclass import OneVsRestClassifier\n",
    "from sklearn.metrics import roc_auc_score\n",
    "from sklearn.linear_model import LogisticRegression\n",
    "from sklearn.metrics import classification_report, accuracy_score,log_loss\n",
    "from sklearn.preprocessing import StandardScaler\n",
    "from scipy.linalg import svd\n",
    "from sklearn.decomposition import TruncatedSVD\n",
    "from sklearn.manifold import TSNE\n",
    "from sklearn import preprocessing"
   ]
  },
  {
   "cell_type": "markdown",
   "metadata": {},
   "source": [
    "### Load the data"
   ]
  },
  {
   "cell_type": "code",
   "execution_count": 88,
   "metadata": {
    "collapsed": false
   },
   "outputs": [
    {
     "name": "stdout",
     "output_type": "stream",
     "text": [
      "['AnimalID' 'Name' 'DateTime' 'OutcomeType' 'OutcomeSubtype' 'AnimalType'\n",
      " 'SexuponOutcome' 'AgeuponOutcome' 'Breed' 'Color']\n"
     ]
    },
    {
     "data": {
      "text/html": [
       "<div>\n",
       "<table border=\"1\" class=\"dataframe\">\n",
       "  <thead>\n",
       "    <tr style=\"text-align: right;\">\n",
       "      <th></th>\n",
       "      <th>AnimalID</th>\n",
       "      <th>Name</th>\n",
       "      <th>DateTime</th>\n",
       "      <th>OutcomeType</th>\n",
       "      <th>OutcomeSubtype</th>\n",
       "      <th>AnimalType</th>\n",
       "      <th>SexuponOutcome</th>\n",
       "      <th>AgeuponOutcome</th>\n",
       "      <th>Breed</th>\n",
       "      <th>Color</th>\n",
       "    </tr>\n",
       "  </thead>\n",
       "  <tbody>\n",
       "    <tr>\n",
       "      <th>0</th>\n",
       "      <td>A671945</td>\n",
       "      <td>Hambone</td>\n",
       "      <td>2014-02-12 18:22:00</td>\n",
       "      <td>Return_to_owner</td>\n",
       "      <td>NaN</td>\n",
       "      <td>Dog</td>\n",
       "      <td>Neutered Male</td>\n",
       "      <td>1 year</td>\n",
       "      <td>Shetland Sheepdog Mix</td>\n",
       "      <td>Brown/White</td>\n",
       "    </tr>\n",
       "    <tr>\n",
       "      <th>1</th>\n",
       "      <td>A656520</td>\n",
       "      <td>Emily</td>\n",
       "      <td>2013-10-13 12:44:00</td>\n",
       "      <td>Euthanasia</td>\n",
       "      <td>Suffering</td>\n",
       "      <td>Cat</td>\n",
       "      <td>Spayed Female</td>\n",
       "      <td>1 year</td>\n",
       "      <td>Domestic Shorthair Mix</td>\n",
       "      <td>Cream Tabby</td>\n",
       "    </tr>\n",
       "    <tr>\n",
       "      <th>2</th>\n",
       "      <td>A686464</td>\n",
       "      <td>Pearce</td>\n",
       "      <td>2015-01-31 12:28:00</td>\n",
       "      <td>Adoption</td>\n",
       "      <td>Foster</td>\n",
       "      <td>Dog</td>\n",
       "      <td>Neutered Male</td>\n",
       "      <td>2 years</td>\n",
       "      <td>Pit Bull Mix</td>\n",
       "      <td>Blue/White</td>\n",
       "    </tr>\n",
       "  </tbody>\n",
       "</table>\n",
       "</div>"
      ],
      "text/plain": [
       "  AnimalID     Name             DateTime      OutcomeType OutcomeSubtype  \\\n",
       "0  A671945  Hambone  2014-02-12 18:22:00  Return_to_owner            NaN   \n",
       "1  A656520    Emily  2013-10-13 12:44:00       Euthanasia      Suffering   \n",
       "2  A686464   Pearce  2015-01-31 12:28:00         Adoption         Foster   \n",
       "\n",
       "  AnimalType SexuponOutcome AgeuponOutcome                   Breed  \\\n",
       "0        Dog  Neutered Male         1 year   Shetland Sheepdog Mix   \n",
       "1        Cat  Spayed Female         1 year  Domestic Shorthair Mix   \n",
       "2        Dog  Neutered Male        2 years            Pit Bull Mix   \n",
       "\n",
       "         Color  \n",
       "0  Brown/White  \n",
       "1  Cream Tabby  \n",
       "2   Blue/White  "
      ]
     },
     "execution_count": 88,
     "metadata": {},
     "output_type": "execute_result"
    }
   ],
   "source": [
    "df_train = pd.read_csv('train.csv')\n",
    "df_test = pd.read_csv('test.csv')\n",
    "print df_train.columns.values\n",
    "df_train[:3]"
   ]
  },
  {
   "cell_type": "markdown",
   "metadata": {},
   "source": [
    "### define functions for preprocessing\n",
    "\n",
    "The idea is to obtain the higher number of features as possible from the raw data. One column is also created for each values of the categorical attributes (breed and color).\n",
    "The missing data are replaced with basic values or the average (age)."
   ]
  },
  {
   "cell_type": "code",
   "execution_count": 3,
   "metadata": {
    "collapsed": false
   },
   "outputs": [],
   "source": [
    "# utility functions\n",
    "def getSplitableAttribute(u): # split an attribute with the caracter '/' and remove the pattern ' Mix'\n",
    "    u = u.replace(' Mix' , '')\n",
    "    return u.split('/')\n",
    "def getUniques( df, attr): # get all uniques attributes for a sequence of splitable attributes\n",
    "    uniques = set()\n",
    "    for u in df[attr]:\n",
    "        for uu in getSplitableAttribute(u):\n",
    "            uniques.add(uu)\n",
    "    return list(uniques)"
   ]
  },
  {
   "cell_type": "code",
   "execution_count": 4,
   "metadata": {
    "collapsed": false
   },
   "outputs": [],
   "source": [
    "unique_breeds = set( getUniques( df_train , 'Breed' ) + getUniques( df_test , 'Breed' ) ) \n",
    "unique_colors = set( getUniques( df_train , 'Color' ) + getUniques( df_test , 'Color' ) )"
   ]
  },
  {
   "cell_type": "code",
   "execution_count": 200,
   "metadata": {
    "collapsed": false
   },
   "outputs": [],
   "source": [
    "# get featuress from data\n",
    "def getMonth(datetime):\n",
    "    dt = parser.parse(datetime)\n",
    "    return dt.month\n",
    "def getHour(datetime):\n",
    "    dt = parser.parse(datetime)\n",
    "    return dt.hour\n",
    "def getMinute(datetime):\n",
    "    dt = parser.parse(datetime)\n",
    "    return dt.minute\n",
    "def getDay(datetime):\n",
    "    dt = parser.parse(datetime)\n",
    "    return dt.day\n",
    "def isNotIntact(x):\n",
    "    if x==x:\n",
    "        return int(('Neutered' in x or 'Spayed' in x))\n",
    "    else:\n",
    "        return 0 # set a default value if NaN\n",
    "def isMale(x):\n",
    "    if x==x:\n",
    "        return float('Male' in x)\n",
    "    else:\n",
    "        return 0 # set a default value if NaN\n",
    "def isFemale(x):\n",
    "    if x==x:\n",
    "        return float('Female' in x)\n",
    "    else:\n",
    "        return 0 # set a default value if NaN\n",
    "def isUnknow(x):\n",
    "    return int(not x==x)\n",
    "\n",
    "# get age in days \n",
    "def getAge(age):\n",
    "    if age==age:\n",
    "            value = int(age.split(' ')[0])\n",
    "            unit = age.split(' ')[1]\n",
    "            factor = 1\n",
    "            if unit == 'weeks' or unit == 'week':\n",
    "                factor = 7\n",
    "            elif unit == 'month' or unit == 'months':\n",
    "                factor = 31\n",
    "            elif unit == 'year' or unit == 'years':\n",
    "                factor = 365  \n",
    "            return value*factor\n",
    "    else:\n",
    "        return -1 # set a default value if NaN\n",
    "\n",
    "# get age for a given unit. \n",
    "def getAgeUnit(age, timeUnit):\n",
    "    if age==age:\n",
    "            value = int(age.split(' ')[0])\n",
    "            unit = age.split(' ')[1]\n",
    "            if unit == timeUnit or unit == timeUnit+'s':\n",
    "                return value\n",
    "            else:\n",
    "                return 0\n",
    "    else:\n",
    "        return 0 # set a default value if NaN"
   ]
  },
  {
   "cell_type": "code",
   "execution_count": 201,
   "metadata": {
    "collapsed": false
   },
   "outputs": [],
   "source": [
    "def preprocess(df):\n",
    "    # color\n",
    "    # get the number of color and \n",
    "    for color in unique_colors: # turn categorical attribute into binary ones\n",
    "        df['Color='+color] = df['Color'].map(lambda x : int(color in getSplitableAttribute(x)) )\n",
    "    df['ColorCount'] = df['Color'].map(lambda x : len(getSplitableAttribute(x)))\n",
    "    df = df.drop('Color', 1)\n",
    "    # breed\n",
    "    for breed in unique_breeds: # turn categorical attribute into binary ones\n",
    "        df['Breed='+breed] = df['Breed'].map(lambda x : int(breed in getSplitableAttribute(x)) )\n",
    "    df['BreedCount'] = df['Breed'].map(lambda x : len(getSplitableAttribute(x)))\n",
    "    df['isMix'] = df['Breed'].map(lambda x: int('Mix' in x))\n",
    "    df = df.drop('Breed', 1)\n",
    "    # has name\n",
    "    df['HasName'] = df['Name'].map( lambda x: int(int(x==x) ) )\n",
    "    df = df.drop('Name' , 1)\n",
    "    # DateTime\n",
    "    df['Hour'] = df['DateTime'].map(getHour)\n",
    "    df['Minute'] = df['DateTime'].map(getMinute)\n",
    "    df['Month'] = df['DateTime'].map(getMonth)\n",
    "    df['Day'] = df['DateTime'].map(getDay)\n",
    "    df = df.drop('DateTime',1)\n",
    "    # sex \n",
    "    df['isNotIntact'] = df['SexuponOutcome'].map(isNotIntact)\n",
    "    df['isFemale'] = df['SexuponOutcome'].map(isFemale)\n",
    "    df = df.drop('SexuponOutcome',1)\n",
    "    # age\n",
    "    df['AgeInDays'] = df.AgeuponOutcome.map( lambda x : getAgeUnit(x , 'day') )\n",
    "    df['AgeInWeeks'] = df.AgeuponOutcome.map( lambda x : getAgeUnit(x , 'week') )\n",
    "    df['AgeInMonths'] = df.AgeuponOutcome.map( lambda x : getAgeUnit(x , 'month') )\n",
    "    df['AgeInYears'] = df.AgeuponOutcome.map( lambda x : getAgeUnit(x , 'year') )\n",
    "    df['Age'] = df.AgeuponOutcome.map( getAge )\n",
    "    df = df.drop( 'AgeuponOutcome' , 1)\n",
    "    # Animal Type \n",
    "    df['isCat'] = df['AnimalType'].map(lambda x : int('Cat' in x ) )\n",
    "    df = df.drop('AnimalType', 1)\n",
    "    # handle missing values\n",
    "    mean_age = np.mean(df['Age'])\n",
    "    df['Age'] = df.Age.map( lambda x : mean_age if x < 0 else x) # fill missing age values\n",
    "    return df"
   ]
  },
  {
   "cell_type": "code",
   "execution_count": 206,
   "metadata": {
    "collapsed": false
   },
   "outputs": [
    {
     "name": "stdout",
     "output_type": "stream",
     "text": [
      "preprocessing train data..\n",
      "\n",
      "preprocessing test data..\n",
      "\n",
      "BreedScore  ColorCount  BreedCount  isMix  HasName  Hour  Minute  Month  Day  isNotIntact  isFemale  AgeInDays  AgeInWeeks  AgeInMonths  AgeInYears  Age  isCat \n",
      "315  features\n"
     ]
    }
   ],
   "source": [
    "# preprocess the data set and save it\n",
    "df_train = pd.read_csv('train_breed_infos.csv') # load the data containing the breed scores\n",
    "df_train = df_train.drop('Unnamed: 0', 1)\n",
    "df_test = pd.read_csv('test_breed_infos.csv')\n",
    "print \"preprocessing train data..\"\n",
    "print\n",
    "df_train = preprocess(df_train)\n",
    "print \"preprocessing test data..\"\n",
    "print\n",
    "df_test = preprocess(df_test)\n",
    "\n",
    "df_train.to_csv(\"preprocessing_train_3.csv\")\n",
    "df_test.to_csv(\"preprocessing_test_3.csv\")\n",
    "\n",
    "features = list(df_train.columns.values)\n",
    "features.remove('OutcomeType')\n",
    "features.remove('OutcomeSubtype')\n",
    "features.remove('AnimalID')\n",
    "fs = []\n",
    "for f in features:\n",
    "    if 'Breed=' not in f and 'Color=' not in f:\n",
    "        print f + ' ',\n",
    "        fs.append(f)\n",
    "        \n",
    "print\n",
    "print len(df_train.columns.values),\n",
    "print ' features'"
   ]
  },
  {
   "cell_type": "code",
   "execution_count": 197,
   "metadata": {
    "collapsed": false
   },
   "outputs": [
    {
     "data": {
      "text/html": [
       "<div>\n",
       "<table border=\"1\" class=\"dataframe\">\n",
       "  <thead>\n",
       "    <tr style=\"text-align: right;\">\n",
       "      <th></th>\n",
       "      <th>BreedScore</th>\n",
       "      <th>ColorCount</th>\n",
       "      <th>BreedCount</th>\n",
       "      <th>isMix</th>\n",
       "      <th>HasName</th>\n",
       "      <th>Hour</th>\n",
       "      <th>Minute</th>\n",
       "      <th>Month</th>\n",
       "      <th>Day</th>\n",
       "      <th>isNotIntact</th>\n",
       "      <th>isFemale</th>\n",
       "      <th>AgeInDays</th>\n",
       "      <th>AgeInWeeks</th>\n",
       "      <th>AgeInMonths</th>\n",
       "      <th>AgeInYears</th>\n",
       "      <th>Age</th>\n",
       "      <th>isCat</th>\n",
       "    </tr>\n",
       "  </thead>\n",
       "  <tbody>\n",
       "    <tr>\n",
       "      <th>0</th>\n",
       "      <td>0.857143</td>\n",
       "      <td>2</td>\n",
       "      <td>1</td>\n",
       "      <td>1</td>\n",
       "      <td>1</td>\n",
       "      <td>18</td>\n",
       "      <td>22</td>\n",
       "      <td>2</td>\n",
       "      <td>12</td>\n",
       "      <td>1</td>\n",
       "      <td>0</td>\n",
       "      <td>0</td>\n",
       "      <td>0</td>\n",
       "      <td>0</td>\n",
       "      <td>1</td>\n",
       "      <td>365</td>\n",
       "      <td>0</td>\n",
       "    </tr>\n",
       "    <tr>\n",
       "      <th>1</th>\n",
       "      <td>0.823529</td>\n",
       "      <td>1</td>\n",
       "      <td>1</td>\n",
       "      <td>1</td>\n",
       "      <td>1</td>\n",
       "      <td>12</td>\n",
       "      <td>44</td>\n",
       "      <td>10</td>\n",
       "      <td>13</td>\n",
       "      <td>1</td>\n",
       "      <td>1</td>\n",
       "      <td>0</td>\n",
       "      <td>0</td>\n",
       "      <td>0</td>\n",
       "      <td>1</td>\n",
       "      <td>365</td>\n",
       "      <td>1</td>\n",
       "    </tr>\n",
       "    <tr>\n",
       "      <th>2</th>\n",
       "      <td>0.000000</td>\n",
       "      <td>2</td>\n",
       "      <td>1</td>\n",
       "      <td>1</td>\n",
       "      <td>1</td>\n",
       "      <td>12</td>\n",
       "      <td>28</td>\n",
       "      <td>1</td>\n",
       "      <td>31</td>\n",
       "      <td>1</td>\n",
       "      <td>0</td>\n",
       "      <td>0</td>\n",
       "      <td>0</td>\n",
       "      <td>0</td>\n",
       "      <td>2</td>\n",
       "      <td>730</td>\n",
       "      <td>0</td>\n",
       "    </tr>\n",
       "  </tbody>\n",
       "</table>\n",
       "</div>"
      ],
      "text/plain": [
       "   BreedScore  ColorCount  BreedCount  isMix  HasName  Hour  Minute  Month  \\\n",
       "0    0.857143           2           1      1        1    18      22      2   \n",
       "1    0.823529           1           1      1        1    12      44     10   \n",
       "2    0.000000           2           1      1        1    12      28      1   \n",
       "\n",
       "   Day isNotIntact  isFemale  AgeInDays  AgeInWeeks  AgeInMonths  AgeInYears  \\\n",
       "0   12           1         0          0           0            0           1   \n",
       "1   13           1         1          0           0            0           1   \n",
       "2   31           1         0          0           0            0           2   \n",
       "\n",
       "   Age  isCat  \n",
       "0  365      0  \n",
       "1  365      1  \n",
       "2  730      0  "
      ]
     },
     "execution_count": 197,
     "metadata": {},
     "output_type": "execute_result"
    }
   ],
   "source": [
    "df_train[fs][:3]"
   ]
  },
  {
   "cell_type": "code",
   "execution_count": 198,
   "metadata": {
    "collapsed": false
   },
   "outputs": [
    {
     "data": {
      "text/html": [
       "<div>\n",
       "<table border=\"1\" class=\"dataframe\">\n",
       "  <thead>\n",
       "    <tr style=\"text-align: right;\">\n",
       "      <th></th>\n",
       "      <th>BreedScore</th>\n",
       "      <th>ColorCount</th>\n",
       "      <th>BreedCount</th>\n",
       "      <th>isMix</th>\n",
       "      <th>HasName</th>\n",
       "      <th>Hour</th>\n",
       "      <th>Minute</th>\n",
       "      <th>Month</th>\n",
       "      <th>Day</th>\n",
       "      <th>isNotIntact</th>\n",
       "      <th>isFemale</th>\n",
       "      <th>AgeInDays</th>\n",
       "      <th>AgeInWeeks</th>\n",
       "      <th>AgeInMonths</th>\n",
       "      <th>AgeInYears</th>\n",
       "      <th>Age</th>\n",
       "      <th>isCat</th>\n",
       "    </tr>\n",
       "  </thead>\n",
       "  <tbody>\n",
       "    <tr>\n",
       "      <th>0</th>\n",
       "      <td>0.888889</td>\n",
       "      <td>2</td>\n",
       "      <td>1</td>\n",
       "      <td>1</td>\n",
       "      <td>1</td>\n",
       "      <td>12</td>\n",
       "      <td>15</td>\n",
       "      <td>10</td>\n",
       "      <td>12</td>\n",
       "      <td>0</td>\n",
       "      <td>1</td>\n",
       "      <td>0</td>\n",
       "      <td>0</td>\n",
       "      <td>10</td>\n",
       "      <td>0</td>\n",
       "      <td>310</td>\n",
       "      <td>0</td>\n",
       "    </tr>\n",
       "    <tr>\n",
       "      <th>1</th>\n",
       "      <td>0.749020</td>\n",
       "      <td>2</td>\n",
       "      <td>2</td>\n",
       "      <td>0</td>\n",
       "      <td>1</td>\n",
       "      <td>17</td>\n",
       "      <td>59</td>\n",
       "      <td>7</td>\n",
       "      <td>26</td>\n",
       "      <td>1</td>\n",
       "      <td>1</td>\n",
       "      <td>0</td>\n",
       "      <td>0</td>\n",
       "      <td>0</td>\n",
       "      <td>2</td>\n",
       "      <td>730</td>\n",
       "      <td>0</td>\n",
       "    </tr>\n",
       "    <tr>\n",
       "      <th>2</th>\n",
       "      <td>0.823529</td>\n",
       "      <td>1</td>\n",
       "      <td>1</td>\n",
       "      <td>1</td>\n",
       "      <td>1</td>\n",
       "      <td>12</td>\n",
       "      <td>20</td>\n",
       "      <td>1</td>\n",
       "      <td>13</td>\n",
       "      <td>1</td>\n",
       "      <td>0</td>\n",
       "      <td>0</td>\n",
       "      <td>0</td>\n",
       "      <td>0</td>\n",
       "      <td>1</td>\n",
       "      <td>365</td>\n",
       "      <td>1</td>\n",
       "    </tr>\n",
       "  </tbody>\n",
       "</table>\n",
       "</div>"
      ],
      "text/plain": [
       "   BreedScore  ColorCount  BreedCount  isMix  HasName  Hour  Minute  Month  \\\n",
       "0    0.888889           2           1      1        1    12      15     10   \n",
       "1    0.749020           2           2      0        1    17      59      7   \n",
       "2    0.823529           1           1      1        1    12      20      1   \n",
       "\n",
       "   Day  isNotIntact  isFemale  AgeInDays  AgeInWeeks  AgeInMonths  AgeInYears  \\\n",
       "0   12            0         1          0           0           10           0   \n",
       "1   26            1         1          0           0            0           2   \n",
       "2   13            1         0          0           0            0           1   \n",
       "\n",
       "   Age  isCat  \n",
       "0  310      0  \n",
       "1  730      0  \n",
       "2  365      1  "
      ]
     },
     "execution_count": 198,
     "metadata": {},
     "output_type": "execute_result"
    }
   ],
   "source": [
    "df_test[fs][:3]"
   ]
  },
  {
   "cell_type": "markdown",
   "metadata": {},
   "source": [
    "# Features Selection\n",
    "\n",
    "In this section we try to reduce the total number of features in order to make the job easier for the classifiers.\n",
    "\n",
    "First, we calculate the correlation coefficient between 'isMix' and BreedCount: if an animal has a mixed breed, it must has 2 breeds. However we observe that the coefficient is still high. Therefore we keep the two features."
   ]
  },
  {
   "cell_type": "code",
   "execution_count": 179,
   "metadata": {
    "collapsed": false
   },
   "outputs": [
    {
     "data": {
      "text/plain": [
       "array([[ 1.        , -0.79916199],\n",
       "       [-0.79916199,  1.        ]])"
      ]
     },
     "execution_count": 179,
     "metadata": {},
     "output_type": "execute_result"
    }
   ],
   "source": [
    "np.corrcoef(df_train['isMix'] , df_train['BreedCount'])"
   ]
  },
  {
   "cell_type": "markdown",
   "metadata": {},
   "source": [
    "Then, I use a random forest classifier in order to calculate the importance of each features based on the GINI scores."
   ]
  },
  {
   "cell_type": "code",
   "execution_count": 175,
   "metadata": {
    "collapsed": false
   },
   "outputs": [
    {
     "name": "stdout",
     "output_type": "stream",
     "text": [
      "312 features\n",
      "21383 rows\n",
      "\n",
      "Fitting...\n",
      "\n",
      "Predicting...\n",
      "\n",
      "0.677890011223  accuracy.\n",
      "\n"
     ]
    }
   ],
   "source": [
    "y = df_train[\"OutcomeType\"]\n",
    "features_selected = features[:]\n",
    "X = df_train[features_selected]\n",
    "X_train, X_test, y_train, y_test = train_test_split(X, y, test_size=0.2, random_state=0)\n",
    "model =  RandomForestClassifier(n_estimators=500, random_state=12)\n",
    "print str(X_train.shape[1]) + ' features'\n",
    "print str(X_train.shape[0]) + ' rows\\n'\n",
    "print 'Fitting...\\n'\n",
    "model.fit(X_train, y_train)\n",
    "print 'Predicting...\\n'\n",
    "y_pred = model.predict(X_test)\n",
    "print accuracy_score(y_test, y_pred), ' accuracy.\\n'"
   ]
  },
  {
   "cell_type": "code",
   "execution_count": 162,
   "metadata": {
    "collapsed": false
   },
   "outputs": [],
   "source": [
    "feat_imps= model.feature_importances_\n",
    "features_importance = []\n",
    "for i in range(len(features_selected)):\n",
    "    features_importance.append(  ( features_selected[i]  , feat_imps[i] ) )"
   ]
  },
  {
   "cell_type": "code",
   "execution_count": 178,
   "metadata": {
    "collapsed": false
   },
   "outputs": [
    {
     "name": "stdout",
     "output_type": "stream",
     "text": [
      "Minute  0.102370656584\n",
      "Hour  0.0956407405325\n",
      "isNotIntact  0.0879925723742\n",
      "Day  0.0839477901991\n",
      "Age  0.0821258993044\n",
      "Month  0.0696016091703\n",
      "AgeInYears  0.0551226255352\n",
      "HasName  0.0446521581114\n",
      "AgeInMonths  0.0404238260823\n",
      "BreedScore  0.0280674931483\n",
      "isFemale  0.0176031949406\n",
      "AgeInWeeks  0.0153008972391\n",
      "isCat  0.0149547175503\n",
      "Color=Black  0.0146600275405\n",
      "Color=White  0.0136617002184\n",
      "ColorCount  0.0129321893313\n",
      "Breed=Domestic Shorthair  0.0100940585049\n",
      "Color=Brown  0.00926536223182\n",
      "isMix  0.00892971227584\n",
      "Color=Tan  0.00879764711784\n",
      "Breed=Pit Bull  0.00653346789997\n",
      "Color=Blue  0.00593635299662\n",
      "Breed=Chihuahua Shorthair  0.00592212291237\n",
      "BreedCount  0.00567219392855\n",
      "Color=Red  0.00486629167741\n",
      "Breed=Labrador Retriever  0.00484589797784\n",
      "Color=Brown Tabby  0.00474773789223\n",
      "Color=Brown Brindle  0.00453366680041\n",
      "Color=Tricolor  0.0037851112822\n",
      "Breed=German Shepherd  0.00358912577011\n"
     ]
    }
   ],
   "source": [
    "sorted_feats = sorted( features_importance , key = lambda x : x[1] , reverse = True )\n",
    "for p in sorted_feats[:30]:\n",
    "    print p[0] + '  ' + str(p[1])"
   ]
  },
  {
   "cell_type": "markdown",
   "metadata": {},
   "source": [
    "As we can see, the information about the time are very important, as well as the information about the age and the sex."
   ]
  },
  {
   "cell_type": "code",
   "execution_count": 190,
   "metadata": {
    "collapsed": false
   },
   "outputs": [
    {
     "data": {
      "image/png": "[encoded data removed]",
      "text/plain": [
       "<matplotlib.figure.Figure at 0x110eb7710>"
      ]
     },
     "metadata": {},
     "output_type": "display_data"
    }
   ],
   "source": [
    "n = 60\n",
    "values = [ f[1] for f in sorted_feats][:n]\n",
    "labels = [ f[0] for f in sorted_feats][:n]\n",
    "plt.bar( range(len(values)), values )\n",
    "plt.xticks(range(len(values)), labels, rotation='vertical')\n",
    "plt.show()"
   ]
  },
  {
   "cell_type": "markdown",
   "metadata": {},
   "source": [
    "As shown on the chart above, Only the first features are really important. we can keep only 10% of the total number of features (initially around 300). I select the best number of features with cross validation as shown bellow."
   ]
  },
  {
   "cell_type": "code",
   "execution_count": 203,
   "metadata": {
    "collapsed": false
   },
   "outputs": [
    {
     "name": "stdout",
     "output_type": "stream",
     "text": [
      "n: 30 seed: 0 seed: 1 seed: 2 0.68287816436  accuracy.\n",
      "n: 40 seed: 0 seed: 1 seed: 2 0.680446439706  accuracy.\n",
      "n: 50 seed: 0 seed: 1 seed: 2 0.680321735877  accuracy.\n"
     ]
    }
   ],
   "source": [
    "results = []\n",
    "for n in range(30,60,10):\n",
    "    print 'n: ' + str(n),\n",
    "    scores = []\n",
    "    for i in range(3):\n",
    "        print 'seed: ' + str(i), \n",
    "        selected_features2 = [ f[0] for f in sorted_feats][:n]\n",
    "        y = df_train[\"OutcomeType\"]\n",
    "        X = df_train[selected_features2]\n",
    "        X_train, X_test, y_train, y_test = train_test_split(X, y, test_size=0.2, random_state=i)\n",
    "        model =  RandomForestClassifier(n_estimators=500, random_state=12)\n",
    "        model.fit(X_train, y_train)\n",
    "        y_pred = model.predict(X_test)\n",
    "        score = accuracy_score(y_test, y_pred)\n",
    "        scores.append(score)\n",
    "    print np.mean(scores),\n",
    "    print ' accuracy.'\n",
    "    results.append( {'n':n , 'score' : np.mean(scores) , 'scores' : scores})"
   ]
  },
  {
   "cell_type": "markdown",
   "metadata": {},
   "source": [
    "The best value regarding to the accuracy is 55 features. (I ran the cell above with different ranges of values)"
   ]
  },
  {
   "cell_type": "code",
   "execution_count": 191,
   "metadata": {
    "collapsed": false
   },
   "outputs": [],
   "source": [
    "feats = pd.DataFrame( [ f[0] for f in sorted_feats][:55] )\n",
    "feats.to_csv('features.csv')"
   ]
  },
  {
   "cell_type": "markdown",
   "metadata": {},
   "source": [
    "## Random forest tuning\n",
    "The next cell has been ran several times with different parameters in order to find the best parameters for our classifier. The score for the simple random forest classifier is already quite good!"
   ]
  },
  {
   "cell_type": "code",
   "execution_count": 204,
   "metadata": {
    "collapsed": false
   },
   "outputs": [
    {
     "name": "stdout",
     "output_type": "stream",
     "text": [
      "50 features\n",
      "21383 rows\n",
      "\n",
      "Fitting...\n",
      "\n",
      "Predicting...\n",
      "\n",
      "0.679947624392  accuracy.\n",
      "\n"
     ]
    }
   ],
   "source": [
    "y = df_train[\"OutcomeType\"]\n",
    "features_selected = features[:]\n",
    "#features_selected.remove('isMix') \n",
    "X = df_train[selected_features2]\n",
    "X_train, X_test, y_train, y_test = train_test_split(X, y, test_size=0.2, random_state=0)\n",
    "model =  RandomForestClassifier(n_estimators=300, random_state=12, min_samples_split = 3, min_samples_leaf = 2, n_jobs=4)\n",
    "print str(X_train.shape[1]) + ' features'\n",
    "print str(X_train.shape[0]) + ' rows\\n'\n",
    "print 'Fitting...\\n'\n",
    "model.fit(X_train, y_train)\n",
    "print 'Predicting...\\n'\n",
    "y_pred = model.predict(X_test)\n",
    "print accuracy_score(y_test, y_pred), ' accuracy.\\n'"
   ]
  },
  {
   "cell_type": "markdown",
   "metadata": {},
   "source": [
    "# NB: the data is normalized in the notebook fit, predict and submit\""
   ]
  },
  {
   "cell_type": "code",
   "execution_count": null,
   "metadata": {
    "collapsed": true
   },
   "outputs": [],
   "source": []
  }
 ],
 "metadata": {
  "kernelspec": {
   "display_name": "Python 2",
   "language": "python",
   "name": "python2"
  },
  "language_info": {
   "codemirror_mode": {
    "name": "ipython",
    "version": 2
   },
   "file_extension": ".py",
   "mimetype": "text/x-python",
   "name": "python",
   "nbconvert_exporter": "python",
   "pygments_lexer": "ipython2",
   "version": "2.7.11"
  }
 },
 "nbformat": 4,
 "nbformat_minor": 0
}
